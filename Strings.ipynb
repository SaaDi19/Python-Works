{
 "cells": [
  {
   "cell_type": "markdown",
   "id": "0fb01e53",
   "metadata": {},
   "source": [
    "##Strings"
   ]
  },
  {
   "cell_type": "code",
   "execution_count": 1,
   "id": "e3c16556",
   "metadata": {},
   "outputs": [
    {
     "data": {
      "text/plain": [
       "'biryani'"
      ]
     },
     "execution_count": 1,
     "metadata": {},
     "output_type": "execute_result"
    }
   ],
   "source": [
    "food=\"biryani\"\n",
    "food"
   ]
  },
  {
   "cell_type": "code",
   "execution_count": 9,
   "id": "357501f2",
   "metadata": {
    "scrolled": true
   },
   "outputs": [
    {
     "name": "stdout",
     "output_type": "stream",
     "text": [
      "7\n",
      "bi\n",
      "ryan\n",
      "biryani\n",
      "biryani\n",
      "yani\n"
     ]
    }
   ],
   "source": [
    "print(len(food))\n",
    "print(food[0:2])\n",
    "print(food[2:6])\n",
    "print(food[0:])\n",
    "print(food[ :7])\n",
    "print(food[3:7])"
   ]
  },
  {
   "cell_type": "code",
   "execution_count": 10,
   "id": "24f08411",
   "metadata": {},
   "outputs": [
    {
     "data": {
      "text/plain": [
       "'Biryani'"
      ]
     },
     "execution_count": 10,
     "metadata": {},
     "output_type": "execute_result"
    }
   ],
   "source": [
    "#Capitalized the first letter.\n",
    "food.capitalize()"
   ]
  },
  {
   "cell_type": "code",
   "execution_count": 14,
   "id": "241329c5",
   "metadata": {
    "scrolled": true
   },
   "outputs": [
    {
     "data": {
      "text/plain": [
       "'BIRYANI'"
      ]
     },
     "execution_count": 14,
     "metadata": {},
     "output_type": "execute_result"
    }
   ],
   "source": [
    "#change in upper case all string\n",
    "food.upper()"
   ]
  },
  {
   "cell_type": "code",
   "execution_count": 15,
   "id": "11b55c4f",
   "metadata": {},
   "outputs": [
    {
     "data": {
      "text/plain": [
       "'biryani'"
      ]
     },
     "execution_count": 15,
     "metadata": {},
     "output_type": "execute_result"
    }
   ],
   "source": [
    "#change in lower case\n",
    "food.lower()"
   ]
  },
  {
   "cell_type": "code",
   "execution_count": 17,
   "id": "b3a9cfe5",
   "metadata": {},
   "outputs": [
    {
     "data": {
      "text/plain": [
       "'Shiryani'"
      ]
     },
     "execution_count": 17,
     "metadata": {},
     "output_type": "execute_result"
    }
   ],
   "source": [
    "#replace any letter in string\n",
    "food.replace(\"bi\",\"Shi\")"
   ]
  },
  {
   "cell_type": "code",
   "execution_count": 18,
   "id": "1fe98203",
   "metadata": {},
   "outputs": [
    {
     "data": {
      "text/plain": [
       "2"
      ]
     },
     "execution_count": 18,
     "metadata": {},
     "output_type": "execute_result"
    }
   ],
   "source": [
    "#counting a  total number of times letter in string\n",
    "food.count(\"i\")"
   ]
  },
  {
   "cell_type": "markdown",
   "id": "3da37c61",
   "metadata": {},
   "source": [
    "##Indexing number finding in string"
   ]
  },
  {
   "cell_type": "code",
   "execution_count": 20,
   "id": "9d840b3c",
   "metadata": {},
   "outputs": [
    {
     "data": {
      "text/plain": [
       "11"
      ]
     },
     "execution_count": 20,
     "metadata": {},
     "output_type": "execute_result"
    }
   ],
   "source": [
    "name=\"My name is Saadat Hussain\"\n",
    "#.find(\"n\")\n",
    "name.find(\"S\")"
   ]
  },
  {
   "cell_type": "code",
   "execution_count": 21,
   "id": "b8cccd49",
   "metadata": {},
   "outputs": [
    {
     "data": {
      "text/plain": [
       "'Saadat, Saad, Waqar, Ibrahim, YASIR'"
      ]
     },
     "execution_count": 21,
     "metadata": {},
     "output_type": "execute_result"
    }
   ],
   "source": [
    "name=\"Saadat, Saad, Waqar, Ibrahim, YASIR\"\n",
    "name"
   ]
  },
  {
   "cell_type": "code",
   "execution_count": 22,
   "id": "ef6efa6e",
   "metadata": {
    "scrolled": true
   },
   "outputs": [
    {
     "data": {
      "text/plain": [
       "['Saadat', ' Saad', ' Waqar', ' Ibrahim', ' YASIR']"
      ]
     },
     "execution_count": 22,
     "metadata": {},
     "output_type": "execute_result"
    }
   ],
   "source": [
    "#Spliting the string with qoma , base\n",
    "name=\"Saadat, Saad, Waqar, Ibrahim, YASIR\"\n",
    "name.split(\",\")"
   ]
  },
  {
   "cell_type": "markdown",
   "id": "07a7514b",
   "metadata": {},
   "source": [
    "##Tuple"
   ]
  },
  {
   "cell_type": "code",
   "execution_count": 23,
   "id": "fc2f9269",
   "metadata": {},
   "outputs": [
    {
     "data": {
      "text/plain": [
       "(1, 'python', True, 2.5)"
      ]
     },
     "execution_count": 23,
     "metadata": {},
     "output_type": "execute_result"
    }
   ],
   "source": [
    "tupl1=(1,\"python\", True, 2.5)\n",
    "tupl1"
   ]
  },
  {
   "cell_type": "code",
   "execution_count": 24,
   "id": "f85066d0",
   "metadata": {},
   "outputs": [
    {
     "data": {
      "text/plain": [
       "(1, 'python', True)"
      ]
     },
     "execution_count": 24,
     "metadata": {},
     "output_type": "execute_result"
    }
   ],
   "source": [
    "tupl1[0:3] #indexing of tuple"
   ]
  },
  {
   "cell_type": "code",
   "execution_count": 25,
   "id": "61e4b0aa",
   "metadata": {},
   "outputs": [
    {
     "data": {
      "text/plain": [
       "4"
      ]
     },
     "execution_count": 25,
     "metadata": {},
     "output_type": "execute_result"
    }
   ],
   "source": [
    "len(tupl1) #length of tuple"
   ]
  },
  {
   "cell_type": "code",
   "execution_count": 26,
   "id": "b99ec873",
   "metadata": {},
   "outputs": [
    {
     "data": {
      "text/plain": [
       "(2, 'programming', False, 3.7)"
      ]
     },
     "execution_count": 26,
     "metadata": {},
     "output_type": "execute_result"
    }
   ],
   "source": [
    "tupl2=(2,\"programming\", False, 3.7)\n",
    "tupl2"
   ]
  },
  {
   "cell_type": "code",
   "execution_count": 27,
   "id": "6ead624b",
   "metadata": {},
   "outputs": [
    {
     "data": {
      "text/plain": [
       "(1, 'python', True, 2.5, 2, 'programming', False, 3.7)"
      ]
     },
     "execution_count": 27,
     "metadata": {},
     "output_type": "execute_result"
    }
   ],
   "source": [
    "tupl3=tupl1+tupl2\n",
    "tupl3"
   ]
  },
  {
   "cell_type": "code",
   "execution_count": 28,
   "id": "c489c245",
   "metadata": {},
   "outputs": [
    {
     "data": {
      "text/plain": [
       "(1,\n",
       " 'python',\n",
       " True,\n",
       " 2.5,\n",
       " 1,\n",
       " 'python',\n",
       " True,\n",
       " 2.5,\n",
       " 1,\n",
       " 'python',\n",
       " True,\n",
       " 2.5,\n",
       " 2,\n",
       " 'programming',\n",
       " False,\n",
       " 3.7)"
      ]
     },
     "execution_count": 28,
     "metadata": {},
     "output_type": "execute_result"
    }
   ],
   "source": [
    "tupl1*3+tupl2"
   ]
  },
  {
   "cell_type": "code",
   "execution_count": 30,
   "id": "d9d3a061",
   "metadata": {},
   "outputs": [
    {
     "data": {
      "text/plain": [
       "10"
      ]
     },
     "execution_count": 30,
     "metadata": {},
     "output_type": "execute_result"
    }
   ],
   "source": [
    "tupl5=(10,20,30,40,50,60,70,80,90,100)\n",
    "min(tupl5)"
   ]
  },
  {
   "cell_type": "code",
   "execution_count": 31,
   "id": "a5b0a94d",
   "metadata": {},
   "outputs": [
    {
     "data": {
      "text/plain": [
       "100"
      ]
     },
     "execution_count": 31,
     "metadata": {},
     "output_type": "execute_result"
    }
   ],
   "source": [
    "max(tupl5)"
   ]
  },
  {
   "cell_type": "code",
   "execution_count": null,
   "id": "4459534e",
   "metadata": {},
   "outputs": [],
   "source": []
  }
 ],
 "metadata": {
  "kernelspec": {
   "display_name": "Python 3 (ipykernel)",
   "language": "python",
   "name": "python3"
  },
  "language_info": {
   "codemirror_mode": {
    "name": "ipython",
    "version": 3
   },
   "file_extension": ".py",
   "mimetype": "text/x-python",
   "name": "python",
   "nbconvert_exporter": "python",
   "pygments_lexer": "ipython3",
   "version": "3.9.13"
  }
 },
 "nbformat": 4,
 "nbformat_minor": 5
}
