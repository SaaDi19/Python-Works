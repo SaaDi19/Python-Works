{
 "cells": [
  {
   "cell_type": "markdown",
   "id": "dcc01285",
   "metadata": {},
   "source": [
    "#This is our first of the prython program on jupyter notebook\n",
    "##Python the chilla\n",
    "###from the youtube, channel name is codnamics"
   ]
  },
  {
   "cell_type": "code",
   "execution_count": 1,
   "id": "ea6e1a38",
   "metadata": {},
   "outputs": [
    {
     "name": "stdout",
     "output_type": "stream",
     "text": [
      "7\n",
      "Hello World!\n",
      "This is our first python program on jupyter notebook\n"
     ]
    }
   ],
   "source": [
    "print(2+5)\n",
    "print(\"Hello World!\")\n",
    "print(\"This is our first python program on jupyter notebook\")"
   ]
  },
  {
   "cell_type": "markdown",
   "id": "b13234d9",
   "metadata": {},
   "source": [
    "##\"Operators\""
   ]
  },
  {
   "cell_type": "code",
   "execution_count": 2,
   "id": "b632fcce",
   "metadata": {},
   "outputs": [
    {
     "name": "stdout",
     "output_type": "stream",
     "text": [
      "3\n",
      "2\n",
      "3.0\n",
      "6\n",
      "1\n",
      "3\n",
      "8\n",
      "-0.3333333333333335\n"
     ]
    }
   ],
   "source": [
    "print(2+1)  \n",
    "print(3-1)  \n",
    "print(6/2)  \n",
    "print(2*3)  \n",
    "print(13%2) \n",
    "print(6//2) \n",
    "print(2**3) \n",
    "print((2*4)/2**2/3+3-4)"
   ]
  },
  {
   "cell_type": "markdown",
   "id": "a136834e",
   "metadata": {},
   "source": [
    "##\"Usage of variables\""
   ]
  },
  {
   "cell_type": "code",
   "execution_count": 3,
   "id": "59d42d2a",
   "metadata": {},
   "outputs": [
    {
     "name": "stdout",
     "output_type": "stream",
     "text": [
      "<class 'str'>\n",
      "Mangoes\n"
     ]
    }
   ],
   "source": [
    "fruit_basket=8\n",
    "fruit_basket=\"Mangoes\"\n",
    "print(type(fruit_basket))\n",
    "print(fruit_basket)"
   ]
  },
  {
   "cell_type": "code",
   "execution_count": 4,
   "id": "94f31a12",
   "metadata": {
    "scrolled": true
   },
   "outputs": [
    {
     "name": "stdout",
     "output_type": "stream",
     "text": [
      "<class 'int'>\n",
      "8\n",
      "<class 'str'>\n",
      "Mangoes\n"
     ]
    },
    {
     "ename": "NameError",
     "evalue": "name 'fruit_basket' is not defined",
     "output_type": "error",
     "traceback": [
      "\u001b[1;31m---------------------------------------------------------------------------\u001b[0m",
      "\u001b[1;31mNameError\u001b[0m                                 Traceback (most recent call last)",
      "\u001b[1;32m~\\AppData\\Local\\Temp\\ipykernel_16020\\3748349537.py\u001b[0m in \u001b[0;36m<module>\u001b[1;34m\u001b[0m\n\u001b[0;32m      8\u001b[0m \u001b[1;33m\u001b[0m\u001b[0m\n\u001b[0;32m      9\u001b[0m \u001b[1;32mdel\u001b[0m \u001b[0mfruit_basket\u001b[0m   \u001b[1;31m# here we use the builtin funtion (del) to delete the data in fruit_basket\u001b[0m\u001b[1;33m\u001b[0m\u001b[1;33m\u001b[0m\u001b[0m\n\u001b[1;32m---> 10\u001b[1;33m \u001b[0mprint\u001b[0m\u001b[1;33m(\u001b[0m\u001b[0mfruit_basket\u001b[0m\u001b[1;33m)\u001b[0m\u001b[1;33m\u001b[0m\u001b[1;33m\u001b[0m\u001b[0m\n\u001b[0m\u001b[0;32m     11\u001b[0m \u001b[1;33m\u001b[0m\u001b[0m\n\u001b[0;32m     12\u001b[0m \u001b[1;31m#Error of this program output is because we delete the data in\u001b[0m\u001b[1;33m\u001b[0m\u001b[1;33m\u001b[0m\u001b[0m\n",
      "\u001b[1;31mNameError\u001b[0m: name 'fruit_basket' is not defined"
     ]
    }
   ],
   "source": [
    "fruit_basket=8\n",
    "print(type(fruit_basket))  #here fruit_basket type is in integer \n",
    "print(fruit_basket)\n",
    "\n",
    "fruit_basket=\"Mangoes\"  \n",
    "print(type(fruit_basket)) #here fruit_basket type is changed into the string mangoes\n",
    "print(fruit_basket)\n",
    "\n",
    "del fruit_basket   # here we use the builtin funtion (del) to delete the data in fruit_basket\n",
    "print(fruit_basket)\n",
    "\n",
    "#Error of this program output is because we delete the data in\n",
    "#fruit_basket variable so it will give us empty error"
   ]
  },
  {
   "cell_type": "markdown",
   "id": "f240ea76",
   "metadata": {},
   "source": [
    "##Input Functions"
   ]
  },
  {
   "cell_type": "markdown",
   "id": "7d0d4123",
   "metadata": {},
   "source": [
    "###Input Function Way One"
   ]
  },
  {
   "cell_type": "code",
   "execution_count": null,
   "id": "25c9cce3",
   "metadata": {},
   "outputs": [],
   "source": [
    "fruit_basket=input(\"What is your favorite fruit\")\n",
    "print(fruit_basket)"
   ]
  },
  {
   "cell_type": "markdown",
   "id": "515c55c0",
   "metadata": {},
   "source": [
    "###Input Function way two and three"
   ]
  },
  {
   "cell_type": "code",
   "execution_count": null,
   "id": "7ec462a8",
   "metadata": {},
   "outputs": [],
   "source": [
    "name=input(\"What is your name\")\n",
    "fruit_basket=input(\"What is your favorit fruit \")\n",
    "greeting=\"Hello!\"\n",
    "print(greeting, name, \"Happy to know that your favorit fruit is \", fruit_basket)"
   ]
  },
  {
   "cell_type": "markdown",
   "id": "836f59bb",
   "metadata": {},
   "source": [
    "###Input function with Logical operators"
   ]
  },
  {
   "cell_type": "code",
   "execution_count": null,
   "id": "3507bc1d",
   "metadata": {},
   "outputs": [],
   "source": [
    "Age_at_school=5\n",
    "saadi_age=input(\"The age of Saad is \")\n",
    "saadi_age=int(saadi_age)\n",
    "print(saadi_age==Age_at_school)"
   ]
  },
  {
   "cell_type": "code",
   "execution_count": null,
   "id": "d585f92e",
   "metadata": {},
   "outputs": [],
   "source": [
    "age_at_school=5\n",
    "saadi_age=input(\"How old saad is \")\n",
    "saadi_age=int(saadi_age)\n",
    "print(type(saadi_age))\n",
    "print(saadi_age==Age_at_school)"
   ]
  },
  {
   "cell_type": "markdown",
   "id": "6945a5ac",
   "metadata": {},
   "source": [
    "##Type Conversion"
   ]
  },
  {
   "cell_type": "code",
   "execution_count": null,
   "id": "73a035ef",
   "metadata": {},
   "outputs": [],
   "source": [
    "x=10\n",
    "y=10.2\n",
    "z=\"hello\""
   ]
  },
  {
   "cell_type": "markdown",
   "id": "e5ba30af",
   "metadata": {},
   "source": [
    "###Implicit type conversion"
   ]
  },
  {
   "cell_type": "code",
   "execution_count": null,
   "id": "7926a6d0",
   "metadata": {},
   "outputs": [],
   "source": [
    "x=x+y\n",
    "print(x, \"Type of x is \", type(x))"
   ]
  },
  {
   "cell_type": "markdown",
   "id": "bd848ebd",
   "metadata": {},
   "source": [
    "###Explicit type conversion"
   ]
  },
  {
   "cell_type": "code",
   "execution_count": null,
   "id": "40180c31",
   "metadata": {},
   "outputs": [],
   "source": [
    "age=input(\"What is your age : \")\n",
    "age=int(age)\n",
    "print(type(age))\n",
    "type(float(age))\n",
    "# type(str(age))"
   ]
  },
  {
   "cell_type": "markdown",
   "id": "d1efc0f3",
   "metadata": {},
   "source": [
    "##If else & elif"
   ]
  },
  {
   "cell_type": "code",
   "execution_count": null,
   "id": "b63bf7d5",
   "metadata": {},
   "outputs": [],
   "source": [
    "hamad_age=1\n",
    "require_age_at_school=5\n",
    "\n",
    "if hamad_age==require_age_at_school:\n",
    "    print(\"Congratulation hammad can join school\")\n",
    "elif hamad_age>require_age_at_school:\n",
    "    print(\"Congratulation hammad can join school greater 5\")\n",
    "elif hamad_age<=2:\n",
    "    print(\"Hamad can not go to school\")\n",
    "else:\n",
    "    print(\"else\")"
   ]
  },
  {
   "cell_type": "markdown",
   "id": "06610968",
   "metadata": {},
   "source": [
    "##Functions"
   ]
  },
  {
   "cell_type": "markdown",
   "id": "e6ac8401",
   "metadata": {},
   "source": [
    "###Way one"
   ]
  },
  {
   "cell_type": "code",
   "execution_count": null,
   "id": "586200d9",
   "metadata": {},
   "outputs": [],
   "source": [
    "def print_function_first():\n",
    "    print(\"Line1\")\n",
    "    print(\"Line2\")\n",
    "    print(\"Line3\")\n",
    "    \n",
    "print_function_first()"
   ]
  },
  {
   "cell_type": "markdown",
   "id": "858cb64b",
   "metadata": {},
   "source": [
    "###Way two"
   ]
  },
  {
   "cell_type": "code",
   "execution_count": null,
   "id": "e0904f64",
   "metadata": {},
   "outputs": [],
   "source": [
    "def point_2fuction():\n",
    "    text=\"What is your name?\"\n",
    "    print(text)\n",
    "    print(text)\n",
    "    print(text)\n",
    "    print(text)\n",
    "\n",
    "point_2fuction()\n",
    "    "
   ]
  },
  {
   "cell_type": "markdown",
   "id": "7099c66f",
   "metadata": {},
   "source": [
    "###Way third"
   ]
  },
  {
   "cell_type": "code",
   "execution_count": null,
   "id": "21027a3e",
   "metadata": {},
   "outputs": [],
   "source": [
    "def point_3fuction(text):\n",
    "    print(text)\n",
    "    print(text)\n",
    "    print(\"Yes!\", text)\n",
    "\n",
    "point_3fuction(\"Saadat\")"
   ]
  },
  {
   "cell_type": "markdown",
   "id": "b4d79276",
   "metadata": {},
   "source": [
    "###Function of future age"
   ]
  },
  {
   "cell_type": "code",
   "execution_count": null,
   "id": "2a523c5e",
   "metadata": {},
   "outputs": [],
   "source": [
    "def future_age(age):\n",
    "    new_age=age+20\n",
    "    return new_age\n",
    "    print(new_age)\n",
    "    \n",
    "futire_predict_age=future_age(18) #inisializing variable then calling fucntion also here.\n",
    "print(futire_predict_age)"
   ]
  },
  {
   "cell_type": "markdown",
   "id": "e8273325",
   "metadata": {},
   "source": [
    "##Loops While and for loops"
   ]
  },
  {
   "cell_type": "code",
   "execution_count": null,
   "id": "214f3c46",
   "metadata": {},
   "outputs": [],
   "source": [
    "###While loops"
   ]
  },
  {
   "cell_type": "code",
   "execution_count": 7,
   "id": "6aa506c2",
   "metadata": {},
   "outputs": [
    {
     "name": "stdout",
     "output_type": "stream",
     "text": [
      "0\n",
      "1\n",
      "2\n",
      "3\n",
      "4\n",
      "5\n"
     ]
    }
   ],
   "source": [
    "x=0\n",
    "while(x<=5):\n",
    "    print(x)\n",
    "    x=x+1\n",
    "\n"
   ]
  },
  {
   "cell_type": "code",
   "execution_count": null,
   "id": "e3777f0e",
   "metadata": {},
   "outputs": [],
   "source": [
    "##for loops"
   ]
  },
  {
   "cell_type": "code",
   "execution_count": 8,
   "id": "819cc8a2",
   "metadata": {},
   "outputs": [
    {
     "name": "stdout",
     "output_type": "stream",
     "text": [
      "4\n",
      "5\n",
      "6\n",
      "7\n",
      "8\n",
      "9\n",
      "10\n"
     ]
    }
   ],
   "source": [
    "for x in range (4,11):\n",
    "    print(x)"
   ]
  },
  {
   "cell_type": "code",
   "execution_count": null,
   "id": "c75a6838",
   "metadata": {},
   "outputs": [],
   "source": []
  },
  {
   "cell_type": "code",
   "execution_count": null,
   "id": "07d29184",
   "metadata": {},
   "outputs": [],
   "source": []
  },
  {
   "cell_type": "code",
   "execution_count": null,
   "id": "ab80c98f",
   "metadata": {},
   "outputs": [],
   "source": []
  },
  {
   "cell_type": "code",
   "execution_count": null,
   "id": "8a18f4b3",
   "metadata": {},
   "outputs": [],
   "source": []
  },
  {
   "cell_type": "code",
   "execution_count": null,
   "id": "58167c72",
   "metadata": {},
   "outputs": [],
   "source": []
  },
  {
   "cell_type": "code",
   "execution_count": null,
   "id": "e7874269",
   "metadata": {},
   "outputs": [],
   "source": []
  },
  {
   "cell_type": "code",
   "execution_count": null,
   "id": "90bad844",
   "metadata": {},
   "outputs": [],
   "source": []
  },
  {
   "cell_type": "code",
   "execution_count": null,
   "id": "b699676e",
   "metadata": {},
   "outputs": [],
   "source": []
  },
  {
   "cell_type": "code",
   "execution_count": null,
   "id": "ee7065b4",
   "metadata": {},
   "outputs": [],
   "source": []
  },
  {
   "cell_type": "code",
   "execution_count": null,
   "id": "9d2fed5b",
   "metadata": {},
   "outputs": [],
   "source": []
  },
  {
   "cell_type": "code",
   "execution_count": null,
   "id": "0315d8bb",
   "metadata": {},
   "outputs": [],
   "source": []
  },
  {
   "cell_type": "code",
   "execution_count": null,
   "id": "2a6bba2b",
   "metadata": {},
   "outputs": [],
   "source": []
  },
  {
   "cell_type": "code",
   "execution_count": null,
   "id": "218f650f",
   "metadata": {},
   "outputs": [],
   "source": []
  },
  {
   "cell_type": "code",
   "execution_count": null,
   "id": "af9c0092",
   "metadata": {},
   "outputs": [],
   "source": []
  },
  {
   "cell_type": "code",
   "execution_count": null,
   "id": "c99b0d20",
   "metadata": {},
   "outputs": [],
   "source": []
  },
  {
   "cell_type": "code",
   "execution_count": null,
   "id": "65e5ddad",
   "metadata": {},
   "outputs": [],
   "source": []
  },
  {
   "cell_type": "code",
   "execution_count": null,
   "id": "d58c3b4a",
   "metadata": {},
   "outputs": [],
   "source": []
  },
  {
   "cell_type": "code",
   "execution_count": null,
   "id": "98a9111b",
   "metadata": {},
   "outputs": [],
   "source": []
  },
  {
   "cell_type": "code",
   "execution_count": null,
   "id": "98158dfb",
   "metadata": {},
   "outputs": [],
   "source": []
  },
  {
   "cell_type": "code",
   "execution_count": null,
   "id": "31b03937",
   "metadata": {},
   "outputs": [],
   "source": []
  },
  {
   "cell_type": "code",
   "execution_count": null,
   "id": "f5723fbe",
   "metadata": {},
   "outputs": [],
   "source": []
  },
  {
   "cell_type": "code",
   "execution_count": null,
   "id": "a6347406",
   "metadata": {},
   "outputs": [],
   "source": []
  },
  {
   "cell_type": "code",
   "execution_count": null,
   "id": "97beb8d2",
   "metadata": {},
   "outputs": [],
   "source": []
  },
  {
   "cell_type": "code",
   "execution_count": null,
   "id": "aa195dc0",
   "metadata": {},
   "outputs": [],
   "source": []
  },
  {
   "cell_type": "code",
   "execution_count": null,
   "id": "4e5d726e",
   "metadata": {},
   "outputs": [],
   "source": []
  },
  {
   "cell_type": "code",
   "execution_count": null,
   "id": "30090698",
   "metadata": {},
   "outputs": [],
   "source": []
  },
  {
   "cell_type": "code",
   "execution_count": null,
   "id": "06b0b4eb",
   "metadata": {},
   "outputs": [],
   "source": []
  },
  {
   "cell_type": "code",
   "execution_count": null,
   "id": "71b5ff4c",
   "metadata": {},
   "outputs": [],
   "source": []
  },
  {
   "cell_type": "code",
   "execution_count": null,
   "id": "9004e907",
   "metadata": {},
   "outputs": [],
   "source": []
  },
  {
   "cell_type": "code",
   "execution_count": null,
   "id": "e8828ce0",
   "metadata": {},
   "outputs": [],
   "source": []
  },
  {
   "cell_type": "code",
   "execution_count": null,
   "id": "d2765354",
   "metadata": {},
   "outputs": [],
   "source": []
  },
  {
   "cell_type": "code",
   "execution_count": null,
   "id": "8fd0e179",
   "metadata": {},
   "outputs": [],
   "source": []
  },
  {
   "cell_type": "code",
   "execution_count": null,
   "id": "147ceab3",
   "metadata": {},
   "outputs": [],
   "source": []
  },
  {
   "cell_type": "code",
   "execution_count": null,
   "id": "0bc56ab2",
   "metadata": {},
   "outputs": [],
   "source": []
  },
  {
   "cell_type": "code",
   "execution_count": null,
   "id": "93828d88",
   "metadata": {},
   "outputs": [],
   "source": []
  },
  {
   "cell_type": "code",
   "execution_count": null,
   "id": "e64f8034",
   "metadata": {},
   "outputs": [],
   "source": []
  },
  {
   "cell_type": "code",
   "execution_count": null,
   "id": "b4fcf2e1",
   "metadata": {},
   "outputs": [],
   "source": []
  },
  {
   "cell_type": "code",
   "execution_count": null,
   "id": "c0f9a1d8",
   "metadata": {},
   "outputs": [],
   "source": []
  },
  {
   "cell_type": "code",
   "execution_count": null,
   "id": "4b21cd4a",
   "metadata": {},
   "outputs": [],
   "source": []
  },
  {
   "cell_type": "code",
   "execution_count": null,
   "id": "2e2e5063",
   "metadata": {},
   "outputs": [],
   "source": []
  },
  {
   "cell_type": "code",
   "execution_count": null,
   "id": "8b2a2bea",
   "metadata": {},
   "outputs": [],
   "source": []
  },
  {
   "cell_type": "code",
   "execution_count": null,
   "id": "d21307a4",
   "metadata": {},
   "outputs": [],
   "source": []
  },
  {
   "cell_type": "code",
   "execution_count": null,
   "id": "ff3b4c00",
   "metadata": {},
   "outputs": [],
   "source": []
  },
  {
   "cell_type": "code",
   "execution_count": null,
   "id": "76928694",
   "metadata": {},
   "outputs": [],
   "source": []
  },
  {
   "cell_type": "code",
   "execution_count": null,
   "id": "ba398df4",
   "metadata": {},
   "outputs": [],
   "source": []
  },
  {
   "cell_type": "code",
   "execution_count": null,
   "id": "80e5841b",
   "metadata": {},
   "outputs": [],
   "source": []
  },
  {
   "cell_type": "code",
   "execution_count": null,
   "id": "61c76120",
   "metadata": {},
   "outputs": [],
   "source": []
  },
  {
   "cell_type": "code",
   "execution_count": null,
   "id": "753b3bee",
   "metadata": {},
   "outputs": [],
   "source": []
  },
  {
   "cell_type": "code",
   "execution_count": null,
   "id": "724f23a0",
   "metadata": {},
   "outputs": [],
   "source": []
  },
  {
   "cell_type": "code",
   "execution_count": null,
   "id": "4334459d",
   "metadata": {},
   "outputs": [],
   "source": []
  },
  {
   "cell_type": "code",
   "execution_count": null,
   "id": "11482fc4",
   "metadata": {},
   "outputs": [],
   "source": []
  },
  {
   "cell_type": "code",
   "execution_count": null,
   "id": "4cd951f0",
   "metadata": {},
   "outputs": [],
   "source": []
  },
  {
   "cell_type": "code",
   "execution_count": null,
   "id": "be4d161b",
   "metadata": {},
   "outputs": [],
   "source": []
  },
  {
   "cell_type": "code",
   "execution_count": null,
   "id": "83eb84db",
   "metadata": {},
   "outputs": [],
   "source": []
  },
  {
   "cell_type": "code",
   "execution_count": null,
   "id": "1a84f2a3",
   "metadata": {},
   "outputs": [],
   "source": []
  },
  {
   "cell_type": "code",
   "execution_count": null,
   "id": "c1144d0a",
   "metadata": {},
   "outputs": [],
   "source": []
  },
  {
   "cell_type": "code",
   "execution_count": null,
   "id": "13167042",
   "metadata": {},
   "outputs": [],
   "source": []
  },
  {
   "cell_type": "code",
   "execution_count": null,
   "id": "23e7c593",
   "metadata": {},
   "outputs": [],
   "source": []
  }
 ],
 "metadata": {
  "kernelspec": {
   "display_name": "Python 3 (ipykernel)",
   "language": "python",
   "name": "python3"
  },
  "language_info": {
   "codemirror_mode": {
    "name": "ipython",
    "version": 3
   },
   "file_extension": ".py",
   "mimetype": "text/x-python",
   "name": "python",
   "nbconvert_exporter": "python",
   "pygments_lexer": "ipython3",
   "version": "3.9.13"
  },
  "widgets": {
   "application/vnd.jupyter.widget-state+json": {
    "state": {},
    "version_major": 2,
    "version_minor": 0
   }
  }
 },
 "nbformat": 4,
 "nbformat_minor": 5
}
